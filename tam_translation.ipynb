{
  "nbformat": 4,
  "nbformat_minor": 0,
  "metadata": {
    "colab": {
      "provenance": [],
      "gpuType": "T4"
    },
    "kernelspec": {
      "name": "python3",
      "display_name": "Python 3"
    },
    "language_info": {
      "name": "python"
    },
    "accelerator": "GPU",
    "widgets": {
      "application/vnd.jupyter.widget-state+json": {
        "d5654b4a2f484bd69c744decc30af3d4": {
          "model_module": "@jupyter-widgets/controls",
          "model_name": "HBoxModel",
          "model_module_version": "1.5.0",
          "state": {
            "_dom_classes": [],
            "_model_module": "@jupyter-widgets/controls",
            "_model_module_version": "1.5.0",
            "_model_name": "HBoxModel",
            "_view_count": null,
            "_view_module": "@jupyter-widgets/controls",
            "_view_module_version": "1.5.0",
            "_view_name": "HBoxView",
            "box_style": "",
            "children": [
              "IPY_MODEL_ec26c42090ee40f2bc6c3fee7a09dbc4",
              "IPY_MODEL_fd62bb99b1474179b049f728caee9732",
              "IPY_MODEL_8effceb6aa924bbe9520201b88cb9912"
            ],
            "layout": "IPY_MODEL_11688020906f4b6f8b03426a01ca4399"
          }
        },
        "ec26c42090ee40f2bc6c3fee7a09dbc4": {
          "model_module": "@jupyter-widgets/controls",
          "model_name": "HTMLModel",
          "model_module_version": "1.5.0",
          "state": {
            "_dom_classes": [],
            "_model_module": "@jupyter-widgets/controls",
            "_model_module_version": "1.5.0",
            "_model_name": "HTMLModel",
            "_view_count": null,
            "_view_module": "@jupyter-widgets/controls",
            "_view_module_version": "1.5.0",
            "_view_name": "HTMLView",
            "description": "",
            "description_tooltip": null,
            "layout": "IPY_MODEL_9572a600d55d476a9ea5f6c527acbe25",
            "placeholder": "​",
            "style": "IPY_MODEL_ecfc004f29cb4f5286acd183a59dcbd9",
            "value": "config.json: 100%"
          }
        },
        "fd62bb99b1474179b049f728caee9732": {
          "model_module": "@jupyter-widgets/controls",
          "model_name": "FloatProgressModel",
          "model_module_version": "1.5.0",
          "state": {
            "_dom_classes": [],
            "_model_module": "@jupyter-widgets/controls",
            "_model_module_version": "1.5.0",
            "_model_name": "FloatProgressModel",
            "_view_count": null,
            "_view_module": "@jupyter-widgets/controls",
            "_view_module_version": "1.5.0",
            "_view_name": "ProgressView",
            "bar_style": "success",
            "description": "",
            "description_tooltip": null,
            "layout": "IPY_MODEL_48dcbbebfd9945a4ad97e688786f418c",
            "max": 1206,
            "min": 0,
            "orientation": "horizontal",
            "style": "IPY_MODEL_2b4616143a974f71a93ae8740728c28b",
            "value": 1206
          }
        },
        "8effceb6aa924bbe9520201b88cb9912": {
          "model_module": "@jupyter-widgets/controls",
          "model_name": "HTMLModel",
          "model_module_version": "1.5.0",
          "state": {
            "_dom_classes": [],
            "_model_module": "@jupyter-widgets/controls",
            "_model_module_version": "1.5.0",
            "_model_name": "HTMLModel",
            "_view_count": null,
            "_view_module": "@jupyter-widgets/controls",
            "_view_module_version": "1.5.0",
            "_view_name": "HTMLView",
            "description": "",
            "description_tooltip": null,
            "layout": "IPY_MODEL_120c3a0c79094615b0e5e80192fe145a",
            "placeholder": "​",
            "style": "IPY_MODEL_af673a3150a3475fac85d0545e26196d",
            "value": " 1.21k/1.21k [00:00&lt;00:00, 26.2kB/s]"
          }
        },
        "11688020906f4b6f8b03426a01ca4399": {
          "model_module": "@jupyter-widgets/base",
          "model_name": "LayoutModel",
          "model_module_version": "1.2.0",
          "state": {
            "_model_module": "@jupyter-widgets/base",
            "_model_module_version": "1.2.0",
            "_model_name": "LayoutModel",
            "_view_count": null,
            "_view_module": "@jupyter-widgets/base",
            "_view_module_version": "1.2.0",
            "_view_name": "LayoutView",
            "align_content": null,
            "align_items": null,
            "align_self": null,
            "border": null,
            "bottom": null,
            "display": null,
            "flex": null,
            "flex_flow": null,
            "grid_area": null,
            "grid_auto_columns": null,
            "grid_auto_flow": null,
            "grid_auto_rows": null,
            "grid_column": null,
            "grid_gap": null,
            "grid_row": null,
            "grid_template_areas": null,
            "grid_template_columns": null,
            "grid_template_rows": null,
            "height": null,
            "justify_content": null,
            "justify_items": null,
            "left": null,
            "margin": null,
            "max_height": null,
            "max_width": null,
            "min_height": null,
            "min_width": null,
            "object_fit": null,
            "object_position": null,
            "order": null,
            "overflow": null,
            "overflow_x": null,
            "overflow_y": null,
            "padding": null,
            "right": null,
            "top": null,
            "visibility": null,
            "width": null
          }
        },
        "9572a600d55d476a9ea5f6c527acbe25": {
          "model_module": "@jupyter-widgets/base",
          "model_name": "LayoutModel",
          "model_module_version": "1.2.0",
          "state": {
            "_model_module": "@jupyter-widgets/base",
            "_model_module_version": "1.2.0",
            "_model_name": "LayoutModel",
            "_view_count": null,
            "_view_module": "@jupyter-widgets/base",
            "_view_module_version": "1.2.0",
            "_view_name": "LayoutView",
            "align_content": null,
            "align_items": null,
            "align_self": null,
            "border": null,
            "bottom": null,
            "display": null,
            "flex": null,
            "flex_flow": null,
            "grid_area": null,
            "grid_auto_columns": null,
            "grid_auto_flow": null,
            "grid_auto_rows": null,
            "grid_column": null,
            "grid_gap": null,
            "grid_row": null,
            "grid_template_areas": null,
            "grid_template_columns": null,
            "grid_template_rows": null,
            "height": null,
            "justify_content": null,
            "justify_items": null,
            "left": null,
            "margin": null,
            "max_height": null,
            "max_width": null,
            "min_height": null,
            "min_width": null,
            "object_fit": null,
            "object_position": null,
            "order": null,
            "overflow": null,
            "overflow_x": null,
            "overflow_y": null,
            "padding": null,
            "right": null,
            "top": null,
            "visibility": null,
            "width": null
          }
        },
        "ecfc004f29cb4f5286acd183a59dcbd9": {
          "model_module": "@jupyter-widgets/controls",
          "model_name": "DescriptionStyleModel",
          "model_module_version": "1.5.0",
          "state": {
            "_model_module": "@jupyter-widgets/controls",
            "_model_module_version": "1.5.0",
            "_model_name": "DescriptionStyleModel",
            "_view_count": null,
            "_view_module": "@jupyter-widgets/base",
            "_view_module_version": "1.2.0",
            "_view_name": "StyleView",
            "description_width": ""
          }
        },
        "48dcbbebfd9945a4ad97e688786f418c": {
          "model_module": "@jupyter-widgets/base",
          "model_name": "LayoutModel",
          "model_module_version": "1.2.0",
          "state": {
            "_model_module": "@jupyter-widgets/base",
            "_model_module_version": "1.2.0",
            "_model_name": "LayoutModel",
            "_view_count": null,
            "_view_module": "@jupyter-widgets/base",
            "_view_module_version": "1.2.0",
            "_view_name": "LayoutView",
            "align_content": null,
            "align_items": null,
            "align_self": null,
            "border": null,
            "bottom": null,
            "display": null,
            "flex": null,
            "flex_flow": null,
            "grid_area": null,
            "grid_auto_columns": null,
            "grid_auto_flow": null,
            "grid_auto_rows": null,
            "grid_column": null,
            "grid_gap": null,
            "grid_row": null,
            "grid_template_areas": null,
            "grid_template_columns": null,
            "grid_template_rows": null,
            "height": null,
            "justify_content": null,
            "justify_items": null,
            "left": null,
            "margin": null,
            "max_height": null,
            "max_width": null,
            "min_height": null,
            "min_width": null,
            "object_fit": null,
            "object_position": null,
            "order": null,
            "overflow": null,
            "overflow_x": null,
            "overflow_y": null,
            "padding": null,
            "right": null,
            "top": null,
            "visibility": null,
            "width": null
          }
        },
        "2b4616143a974f71a93ae8740728c28b": {
          "model_module": "@jupyter-widgets/controls",
          "model_name": "ProgressStyleModel",
          "model_module_version": "1.5.0",
          "state": {
            "_model_module": "@jupyter-widgets/controls",
            "_model_module_version": "1.5.0",
            "_model_name": "ProgressStyleModel",
            "_view_count": null,
            "_view_module": "@jupyter-widgets/base",
            "_view_module_version": "1.2.0",
            "_view_name": "StyleView",
            "bar_color": null,
            "description_width": ""
          }
        },
        "120c3a0c79094615b0e5e80192fe145a": {
          "model_module": "@jupyter-widgets/base",
          "model_name": "LayoutModel",
          "model_module_version": "1.2.0",
          "state": {
            "_model_module": "@jupyter-widgets/base",
            "_model_module_version": "1.2.0",
            "_model_name": "LayoutModel",
            "_view_count": null,
            "_view_module": "@jupyter-widgets/base",
            "_view_module_version": "1.2.0",
            "_view_name": "LayoutView",
            "align_content": null,
            "align_items": null,
            "align_self": null,
            "border": null,
            "bottom": null,
            "display": null,
            "flex": null,
            "flex_flow": null,
            "grid_area": null,
            "grid_auto_columns": null,
            "grid_auto_flow": null,
            "grid_auto_rows": null,
            "grid_column": null,
            "grid_gap": null,
            "grid_row": null,
            "grid_template_areas": null,
            "grid_template_columns": null,
            "grid_template_rows": null,
            "height": null,
            "justify_content": null,
            "justify_items": null,
            "left": null,
            "margin": null,
            "max_height": null,
            "max_width": null,
            "min_height": null,
            "min_width": null,
            "object_fit": null,
            "object_position": null,
            "order": null,
            "overflow": null,
            "overflow_x": null,
            "overflow_y": null,
            "padding": null,
            "right": null,
            "top": null,
            "visibility": null,
            "width": null
          }
        },
        "af673a3150a3475fac85d0545e26196d": {
          "model_module": "@jupyter-widgets/controls",
          "model_name": "DescriptionStyleModel",
          "model_module_version": "1.5.0",
          "state": {
            "_model_module": "@jupyter-widgets/controls",
            "_model_module_version": "1.5.0",
            "_model_name": "DescriptionStyleModel",
            "_view_count": null,
            "_view_module": "@jupyter-widgets/base",
            "_view_module_version": "1.2.0",
            "_view_name": "StyleView",
            "description_width": ""
          }
        },
        "f11715f9c6364e40a9d1ebd795106895": {
          "model_module": "@jupyter-widgets/controls",
          "model_name": "HBoxModel",
          "model_module_version": "1.5.0",
          "state": {
            "_dom_classes": [],
            "_model_module": "@jupyter-widgets/controls",
            "_model_module_version": "1.5.0",
            "_model_name": "HBoxModel",
            "_view_count": null,
            "_view_module": "@jupyter-widgets/controls",
            "_view_module_version": "1.5.0",
            "_view_name": "HBoxView",
            "box_style": "",
            "children": [
              "IPY_MODEL_8beb0372b896449590b13f8279544321",
              "IPY_MODEL_aa75ac093bf54de2a94e44ece4d1a976",
              "IPY_MODEL_65dc08dcf6624b9abd0a9df112b389f1"
            ],
            "layout": "IPY_MODEL_8f456065e5cf4bd6a45b38c04b474080"
          }
        },
        "8beb0372b896449590b13f8279544321": {
          "model_module": "@jupyter-widgets/controls",
          "model_name": "HTMLModel",
          "model_module_version": "1.5.0",
          "state": {
            "_dom_classes": [],
            "_model_module": "@jupyter-widgets/controls",
            "_model_module_version": "1.5.0",
            "_model_name": "HTMLModel",
            "_view_count": null,
            "_view_module": "@jupyter-widgets/controls",
            "_view_module_version": "1.5.0",
            "_view_name": "HTMLView",
            "description": "",
            "description_tooltip": null,
            "layout": "IPY_MODEL_2eb0e8e8060a4b45b6206da9d2c21ed8",
            "placeholder": "​",
            "style": "IPY_MODEL_288efb72ba0f4a609e9b00900cd07ce8",
            "value": "model.safetensors: 100%"
          }
        },
        "aa75ac093bf54de2a94e44ece4d1a976": {
          "model_module": "@jupyter-widgets/controls",
          "model_name": "FloatProgressModel",
          "model_module_version": "1.5.0",
          "state": {
            "_dom_classes": [],
            "_model_module": "@jupyter-widgets/controls",
            "_model_module_version": "1.5.0",
            "_model_name": "FloatProgressModel",
            "_view_count": null,
            "_view_module": "@jupyter-widgets/controls",
            "_view_module_version": "1.5.0",
            "_view_name": "ProgressView",
            "bar_style": "success",
            "description": "",
            "description_tooltip": null,
            "layout": "IPY_MODEL_2fdc9db998b04bc4a0e306d15f7bc05f",
            "max": 242043056,
            "min": 0,
            "orientation": "horizontal",
            "style": "IPY_MODEL_b00973c6ec5a483db719e83958ac4f50",
            "value": 242043056
          }
        },
        "65dc08dcf6624b9abd0a9df112b389f1": {
          "model_module": "@jupyter-widgets/controls",
          "model_name": "HTMLModel",
          "model_module_version": "1.5.0",
          "state": {
            "_dom_classes": [],
            "_model_module": "@jupyter-widgets/controls",
            "_model_module_version": "1.5.0",
            "_model_name": "HTMLModel",
            "_view_count": null,
            "_view_module": "@jupyter-widgets/controls",
            "_view_module_version": "1.5.0",
            "_view_name": "HTMLView",
            "description": "",
            "description_tooltip": null,
            "layout": "IPY_MODEL_5f87ee37e6e84eb89fe218a8b2ecde0f",
            "placeholder": "​",
            "style": "IPY_MODEL_580a573739514a0b82f16e9fcd236e8e",
            "value": " 242M/242M [00:01&lt;00:00, 159MB/s]"
          }
        },
        "8f456065e5cf4bd6a45b38c04b474080": {
          "model_module": "@jupyter-widgets/base",
          "model_name": "LayoutModel",
          "model_module_version": "1.2.0",
          "state": {
            "_model_module": "@jupyter-widgets/base",
            "_model_module_version": "1.2.0",
            "_model_name": "LayoutModel",
            "_view_count": null,
            "_view_module": "@jupyter-widgets/base",
            "_view_module_version": "1.2.0",
            "_view_name": "LayoutView",
            "align_content": null,
            "align_items": null,
            "align_self": null,
            "border": null,
            "bottom": null,
            "display": null,
            "flex": null,
            "flex_flow": null,
            "grid_area": null,
            "grid_auto_columns": null,
            "grid_auto_flow": null,
            "grid_auto_rows": null,
            "grid_column": null,
            "grid_gap": null,
            "grid_row": null,
            "grid_template_areas": null,
            "grid_template_columns": null,
            "grid_template_rows": null,
            "height": null,
            "justify_content": null,
            "justify_items": null,
            "left": null,
            "margin": null,
            "max_height": null,
            "max_width": null,
            "min_height": null,
            "min_width": null,
            "object_fit": null,
            "object_position": null,
            "order": null,
            "overflow": null,
            "overflow_x": null,
            "overflow_y": null,
            "padding": null,
            "right": null,
            "top": null,
            "visibility": null,
            "width": null
          }
        },
        "2eb0e8e8060a4b45b6206da9d2c21ed8": {
          "model_module": "@jupyter-widgets/base",
          "model_name": "LayoutModel",
          "model_module_version": "1.2.0",
          "state": {
            "_model_module": "@jupyter-widgets/base",
            "_model_module_version": "1.2.0",
            "_model_name": "LayoutModel",
            "_view_count": null,
            "_view_module": "@jupyter-widgets/base",
            "_view_module_version": "1.2.0",
            "_view_name": "LayoutView",
            "align_content": null,
            "align_items": null,
            "align_self": null,
            "border": null,
            "bottom": null,
            "display": null,
            "flex": null,
            "flex_flow": null,
            "grid_area": null,
            "grid_auto_columns": null,
            "grid_auto_flow": null,
            "grid_auto_rows": null,
            "grid_column": null,
            "grid_gap": null,
            "grid_row": null,
            "grid_template_areas": null,
            "grid_template_columns": null,
            "grid_template_rows": null,
            "height": null,
            "justify_content": null,
            "justify_items": null,
            "left": null,
            "margin": null,
            "max_height": null,
            "max_width": null,
            "min_height": null,
            "min_width": null,
            "object_fit": null,
            "object_position": null,
            "order": null,
            "overflow": null,
            "overflow_x": null,
            "overflow_y": null,
            "padding": null,
            "right": null,
            "top": null,
            "visibility": null,
            "width": null
          }
        },
        "288efb72ba0f4a609e9b00900cd07ce8": {
          "model_module": "@jupyter-widgets/controls",
          "model_name": "DescriptionStyleModel",
          "model_module_version": "1.5.0",
          "state": {
            "_model_module": "@jupyter-widgets/controls",
            "_model_module_version": "1.5.0",
            "_model_name": "DescriptionStyleModel",
            "_view_count": null,
            "_view_module": "@jupyter-widgets/base",
            "_view_module_version": "1.2.0",
            "_view_name": "StyleView",
            "description_width": ""
          }
        },
        "2fdc9db998b04bc4a0e306d15f7bc05f": {
          "model_module": "@jupyter-widgets/base",
          "model_name": "LayoutModel",
          "model_module_version": "1.2.0",
          "state": {
            "_model_module": "@jupyter-widgets/base",
            "_model_module_version": "1.2.0",
            "_model_name": "LayoutModel",
            "_view_count": null,
            "_view_module": "@jupyter-widgets/base",
            "_view_module_version": "1.2.0",
            "_view_name": "LayoutView",
            "align_content": null,
            "align_items": null,
            "align_self": null,
            "border": null,
            "bottom": null,
            "display": null,
            "flex": null,
            "flex_flow": null,
            "grid_area": null,
            "grid_auto_columns": null,
            "grid_auto_flow": null,
            "grid_auto_rows": null,
            "grid_column": null,
            "grid_gap": null,
            "grid_row": null,
            "grid_template_areas": null,
            "grid_template_columns": null,
            "grid_template_rows": null,
            "height": null,
            "justify_content": null,
            "justify_items": null,
            "left": null,
            "margin": null,
            "max_height": null,
            "max_width": null,
            "min_height": null,
            "min_width": null,
            "object_fit": null,
            "object_position": null,
            "order": null,
            "overflow": null,
            "overflow_x": null,
            "overflow_y": null,
            "padding": null,
            "right": null,
            "top": null,
            "visibility": null,
            "width": null
          }
        },
        "b00973c6ec5a483db719e83958ac4f50": {
          "model_module": "@jupyter-widgets/controls",
          "model_name": "ProgressStyleModel",
          "model_module_version": "1.5.0",
          "state": {
            "_model_module": "@jupyter-widgets/controls",
            "_model_module_version": "1.5.0",
            "_model_name": "ProgressStyleModel",
            "_view_count": null,
            "_view_module": "@jupyter-widgets/base",
            "_view_module_version": "1.2.0",
            "_view_name": "StyleView",
            "bar_color": null,
            "description_width": ""
          }
        },
        "5f87ee37e6e84eb89fe218a8b2ecde0f": {
          "model_module": "@jupyter-widgets/base",
          "model_name": "LayoutModel",
          "model_module_version": "1.2.0",
          "state": {
            "_model_module": "@jupyter-widgets/base",
            "_model_module_version": "1.2.0",
            "_model_name": "LayoutModel",
            "_view_count": null,
            "_view_module": "@jupyter-widgets/base",
            "_view_module_version": "1.2.0",
            "_view_name": "LayoutView",
            "align_content": null,
            "align_items": null,
            "align_self": null,
            "border": null,
            "bottom": null,
            "display": null,
            "flex": null,
            "flex_flow": null,
            "grid_area": null,
            "grid_auto_columns": null,
            "grid_auto_flow": null,
            "grid_auto_rows": null,
            "grid_column": null,
            "grid_gap": null,
            "grid_row": null,
            "grid_template_areas": null,
            "grid_template_columns": null,
            "grid_template_rows": null,
            "height": null,
            "justify_content": null,
            "justify_items": null,
            "left": null,
            "margin": null,
            "max_height": null,
            "max_width": null,
            "min_height": null,
            "min_width": null,
            "object_fit": null,
            "object_position": null,
            "order": null,
            "overflow": null,
            "overflow_x": null,
            "overflow_y": null,
            "padding": null,
            "right": null,
            "top": null,
            "visibility": null,
            "width": null
          }
        },
        "580a573739514a0b82f16e9fcd236e8e": {
          "model_module": "@jupyter-widgets/controls",
          "model_name": "DescriptionStyleModel",
          "model_module_version": "1.5.0",
          "state": {
            "_model_module": "@jupyter-widgets/controls",
            "_model_module_version": "1.5.0",
            "_model_name": "DescriptionStyleModel",
            "_view_count": null,
            "_view_module": "@jupyter-widgets/base",
            "_view_module_version": "1.2.0",
            "_view_name": "StyleView",
            "description_width": ""
          }
        },
        "3b3fb9c7509a4680aaa6fb669420f737": {
          "model_module": "@jupyter-widgets/controls",
          "model_name": "HBoxModel",
          "model_module_version": "1.5.0",
          "state": {
            "_dom_classes": [],
            "_model_module": "@jupyter-widgets/controls",
            "_model_module_version": "1.5.0",
            "_model_name": "HBoxModel",
            "_view_count": null,
            "_view_module": "@jupyter-widgets/controls",
            "_view_module_version": "1.5.0",
            "_view_name": "HBoxView",
            "box_style": "",
            "children": [
              "IPY_MODEL_aaa10b1fc4e6415cab5f6d838f6d97b8",
              "IPY_MODEL_ab710ef2fe7545b18f704d596a9fd172",
              "IPY_MODEL_b56ad84e5aa5449d8a0748f58f11608f"
            ],
            "layout": "IPY_MODEL_b6ff2e06a5964c3fa793778f4eec2a18"
          }
        },
        "aaa10b1fc4e6415cab5f6d838f6d97b8": {
          "model_module": "@jupyter-widgets/controls",
          "model_name": "HTMLModel",
          "model_module_version": "1.5.0",
          "state": {
            "_dom_classes": [],
            "_model_module": "@jupyter-widgets/controls",
            "_model_module_version": "1.5.0",
            "_model_name": "HTMLModel",
            "_view_count": null,
            "_view_module": "@jupyter-widgets/controls",
            "_view_module_version": "1.5.0",
            "_view_name": "HTMLView",
            "description": "",
            "description_tooltip": null,
            "layout": "IPY_MODEL_8145867fccda4c63b994367bd20ec8f0",
            "placeholder": "​",
            "style": "IPY_MODEL_afe7f1807d5d45b8ba1207911867d46d",
            "value": "generation_config.json: 100%"
          }
        },
        "ab710ef2fe7545b18f704d596a9fd172": {
          "model_module": "@jupyter-widgets/controls",
          "model_name": "FloatProgressModel",
          "model_module_version": "1.5.0",
          "state": {
            "_dom_classes": [],
            "_model_module": "@jupyter-widgets/controls",
            "_model_module_version": "1.5.0",
            "_model_name": "FloatProgressModel",
            "_view_count": null,
            "_view_module": "@jupyter-widgets/controls",
            "_view_module_version": "1.5.0",
            "_view_name": "ProgressView",
            "bar_style": "success",
            "description": "",
            "description_tooltip": null,
            "layout": "IPY_MODEL_1b3b525e477f45e588933485bd759431",
            "max": 147,
            "min": 0,
            "orientation": "horizontal",
            "style": "IPY_MODEL_4d38a31fb2cd49529feabb4936d71aa8",
            "value": 147
          }
        },
        "b56ad84e5aa5449d8a0748f58f11608f": {
          "model_module": "@jupyter-widgets/controls",
          "model_name": "HTMLModel",
          "model_module_version": "1.5.0",
          "state": {
            "_dom_classes": [],
            "_model_module": "@jupyter-widgets/controls",
            "_model_module_version": "1.5.0",
            "_model_name": "HTMLModel",
            "_view_count": null,
            "_view_module": "@jupyter-widgets/controls",
            "_view_module_version": "1.5.0",
            "_view_name": "HTMLView",
            "description": "",
            "description_tooltip": null,
            "layout": "IPY_MODEL_f383cae96c38416b8bc191da009e88e1",
            "placeholder": "​",
            "style": "IPY_MODEL_e861101d322a4222a5cf2a3c444d5938",
            "value": " 147/147 [00:00&lt;00:00, 5.33kB/s]"
          }
        },
        "b6ff2e06a5964c3fa793778f4eec2a18": {
          "model_module": "@jupyter-widgets/base",
          "model_name": "LayoutModel",
          "model_module_version": "1.2.0",
          "state": {
            "_model_module": "@jupyter-widgets/base",
            "_model_module_version": "1.2.0",
            "_model_name": "LayoutModel",
            "_view_count": null,
            "_view_module": "@jupyter-widgets/base",
            "_view_module_version": "1.2.0",
            "_view_name": "LayoutView",
            "align_content": null,
            "align_items": null,
            "align_self": null,
            "border": null,
            "bottom": null,
            "display": null,
            "flex": null,
            "flex_flow": null,
            "grid_area": null,
            "grid_auto_columns": null,
            "grid_auto_flow": null,
            "grid_auto_rows": null,
            "grid_column": null,
            "grid_gap": null,
            "grid_row": null,
            "grid_template_areas": null,
            "grid_template_columns": null,
            "grid_template_rows": null,
            "height": null,
            "justify_content": null,
            "justify_items": null,
            "left": null,
            "margin": null,
            "max_height": null,
            "max_width": null,
            "min_height": null,
            "min_width": null,
            "object_fit": null,
            "object_position": null,
            "order": null,
            "overflow": null,
            "overflow_x": null,
            "overflow_y": null,
            "padding": null,
            "right": null,
            "top": null,
            "visibility": null,
            "width": null
          }
        },
        "8145867fccda4c63b994367bd20ec8f0": {
          "model_module": "@jupyter-widgets/base",
          "model_name": "LayoutModel",
          "model_module_version": "1.2.0",
          "state": {
            "_model_module": "@jupyter-widgets/base",
            "_model_module_version": "1.2.0",
            "_model_name": "LayoutModel",
            "_view_count": null,
            "_view_module": "@jupyter-widgets/base",
            "_view_module_version": "1.2.0",
            "_view_name": "LayoutView",
            "align_content": null,
            "align_items": null,
            "align_self": null,
            "border": null,
            "bottom": null,
            "display": null,
            "flex": null,
            "flex_flow": null,
            "grid_area": null,
            "grid_auto_columns": null,
            "grid_auto_flow": null,
            "grid_auto_rows": null,
            "grid_column": null,
            "grid_gap": null,
            "grid_row": null,
            "grid_template_areas": null,
            "grid_template_columns": null,
            "grid_template_rows": null,
            "height": null,
            "justify_content": null,
            "justify_items": null,
            "left": null,
            "margin": null,
            "max_height": null,
            "max_width": null,
            "min_height": null,
            "min_width": null,
            "object_fit": null,
            "object_position": null,
            "order": null,
            "overflow": null,
            "overflow_x": null,
            "overflow_y": null,
            "padding": null,
            "right": null,
            "top": null,
            "visibility": null,
            "width": null
          }
        },
        "afe7f1807d5d45b8ba1207911867d46d": {
          "model_module": "@jupyter-widgets/controls",
          "model_name": "DescriptionStyleModel",
          "model_module_version": "1.5.0",
          "state": {
            "_model_module": "@jupyter-widgets/controls",
            "_model_module_version": "1.5.0",
            "_model_name": "DescriptionStyleModel",
            "_view_count": null,
            "_view_module": "@jupyter-widgets/base",
            "_view_module_version": "1.2.0",
            "_view_name": "StyleView",
            "description_width": ""
          }
        },
        "1b3b525e477f45e588933485bd759431": {
          "model_module": "@jupyter-widgets/base",
          "model_name": "LayoutModel",
          "model_module_version": "1.2.0",
          "state": {
            "_model_module": "@jupyter-widgets/base",
            "_model_module_version": "1.2.0",
            "_model_name": "LayoutModel",
            "_view_count": null,
            "_view_module": "@jupyter-widgets/base",
            "_view_module_version": "1.2.0",
            "_view_name": "LayoutView",
            "align_content": null,
            "align_items": null,
            "align_self": null,
            "border": null,
            "bottom": null,
            "display": null,
            "flex": null,
            "flex_flow": null,
            "grid_area": null,
            "grid_auto_columns": null,
            "grid_auto_flow": null,
            "grid_auto_rows": null,
            "grid_column": null,
            "grid_gap": null,
            "grid_row": null,
            "grid_template_areas": null,
            "grid_template_columns": null,
            "grid_template_rows": null,
            "height": null,
            "justify_content": null,
            "justify_items": null,
            "left": null,
            "margin": null,
            "max_height": null,
            "max_width": null,
            "min_height": null,
            "min_width": null,
            "object_fit": null,
            "object_position": null,
            "order": null,
            "overflow": null,
            "overflow_x": null,
            "overflow_y": null,
            "padding": null,
            "right": null,
            "top": null,
            "visibility": null,
            "width": null
          }
        },
        "4d38a31fb2cd49529feabb4936d71aa8": {
          "model_module": "@jupyter-widgets/controls",
          "model_name": "ProgressStyleModel",
          "model_module_version": "1.5.0",
          "state": {
            "_model_module": "@jupyter-widgets/controls",
            "_model_module_version": "1.5.0",
            "_model_name": "ProgressStyleModel",
            "_view_count": null,
            "_view_module": "@jupyter-widgets/base",
            "_view_module_version": "1.2.0",
            "_view_name": "StyleView",
            "bar_color": null,
            "description_width": ""
          }
        },
        "f383cae96c38416b8bc191da009e88e1": {
          "model_module": "@jupyter-widgets/base",
          "model_name": "LayoutModel",
          "model_module_version": "1.2.0",
          "state": {
            "_model_module": "@jupyter-widgets/base",
            "_model_module_version": "1.2.0",
            "_model_name": "LayoutModel",
            "_view_count": null,
            "_view_module": "@jupyter-widgets/base",
            "_view_module_version": "1.2.0",
            "_view_name": "LayoutView",
            "align_content": null,
            "align_items": null,
            "align_self": null,
            "border": null,
            "bottom": null,
            "display": null,
            "flex": null,
            "flex_flow": null,
            "grid_area": null,
            "grid_auto_columns": null,
            "grid_auto_flow": null,
            "grid_auto_rows": null,
            "grid_column": null,
            "grid_gap": null,
            "grid_row": null,
            "grid_template_areas": null,
            "grid_template_columns": null,
            "grid_template_rows": null,
            "height": null,
            "justify_content": null,
            "justify_items": null,
            "left": null,
            "margin": null,
            "max_height": null,
            "max_width": null,
            "min_height": null,
            "min_width": null,
            "object_fit": null,
            "object_position": null,
            "order": null,
            "overflow": null,
            "overflow_x": null,
            "overflow_y": null,
            "padding": null,
            "right": null,
            "top": null,
            "visibility": null,
            "width": null
          }
        },
        "e861101d322a4222a5cf2a3c444d5938": {
          "model_module": "@jupyter-widgets/controls",
          "model_name": "DescriptionStyleModel",
          "model_module_version": "1.5.0",
          "state": {
            "_model_module": "@jupyter-widgets/controls",
            "_model_module_version": "1.5.0",
            "_model_name": "DescriptionStyleModel",
            "_view_count": null,
            "_view_module": "@jupyter-widgets/base",
            "_view_module_version": "1.2.0",
            "_view_name": "StyleView",
            "description_width": ""
          }
        }
      }
    }
  },
  "cells": [
    {
      "cell_type": "code",
      "source": [
        "import torch\n",
        "from transformers import T5Tokenizer, MT5ForConditionalGeneration, AdamW\n",
        "from nltk.translate.bleu_score import sentence_bleu\n",
        "from torch.optim.lr_scheduler import ReduceLROnPlateau\n",
        "import random\n"
      ],
      "metadata": {
        "id": "rSVkcz2TzEq8"
      },
      "execution_count": 3,
      "outputs": []
    },
    {
      "cell_type": "code",
      "source": [
        "from transformers import T5Tokenizer, T5ForConditionalGeneration"
      ],
      "metadata": {
        "id": "JmdvQM7kzki5"
      },
      "execution_count": 6,
      "outputs": []
    },
    {
      "cell_type": "code",
      "source": [
        "t5_tokenizer = T5Tokenizer.from_pretrained('t5-small')\n",
        "t5_model = T5ForConditionalGeneration.from_pretrained('t5-small')"
      ],
      "metadata": {
        "colab": {
          "base_uri": "https://localhost:8080/",
          "height": 113,
          "referenced_widgets": [
            "d5654b4a2f484bd69c744decc30af3d4",
            "ec26c42090ee40f2bc6c3fee7a09dbc4",
            "fd62bb99b1474179b049f728caee9732",
            "8effceb6aa924bbe9520201b88cb9912",
            "11688020906f4b6f8b03426a01ca4399",
            "9572a600d55d476a9ea5f6c527acbe25",
            "ecfc004f29cb4f5286acd183a59dcbd9",
            "48dcbbebfd9945a4ad97e688786f418c",
            "2b4616143a974f71a93ae8740728c28b",
            "120c3a0c79094615b0e5e80192fe145a",
            "af673a3150a3475fac85d0545e26196d",
            "f11715f9c6364e40a9d1ebd795106895",
            "8beb0372b896449590b13f8279544321",
            "aa75ac093bf54de2a94e44ece4d1a976",
            "65dc08dcf6624b9abd0a9df112b389f1",
            "8f456065e5cf4bd6a45b38c04b474080",
            "2eb0e8e8060a4b45b6206da9d2c21ed8",
            "288efb72ba0f4a609e9b00900cd07ce8",
            "2fdc9db998b04bc4a0e306d15f7bc05f",
            "b00973c6ec5a483db719e83958ac4f50",
            "5f87ee37e6e84eb89fe218a8b2ecde0f",
            "580a573739514a0b82f16e9fcd236e8e",
            "3b3fb9c7509a4680aaa6fb669420f737",
            "aaa10b1fc4e6415cab5f6d838f6d97b8",
            "ab710ef2fe7545b18f704d596a9fd172",
            "b56ad84e5aa5449d8a0748f58f11608f",
            "b6ff2e06a5964c3fa793778f4eec2a18",
            "8145867fccda4c63b994367bd20ec8f0",
            "afe7f1807d5d45b8ba1207911867d46d",
            "1b3b525e477f45e588933485bd759431",
            "4d38a31fb2cd49529feabb4936d71aa8",
            "f383cae96c38416b8bc191da009e88e1",
            "e861101d322a4222a5cf2a3c444d5938"
          ]
        },
        "id": "UnW32TRdzfFF",
        "outputId": "9f78ef5f-d6e1-49ca-b721-c0350345bd2b"
      },
      "execution_count": 7,
      "outputs": [
        {
          "output_type": "display_data",
          "data": {
            "text/plain": [
              "config.json:   0%|          | 0.00/1.21k [00:00<?, ?B/s]"
            ],
            "application/vnd.jupyter.widget-view+json": {
              "version_major": 2,
              "version_minor": 0,
              "model_id": "d5654b4a2f484bd69c744decc30af3d4"
            }
          },
          "metadata": {}
        },
        {
          "output_type": "display_data",
          "data": {
            "text/plain": [
              "model.safetensors:   0%|          | 0.00/242M [00:00<?, ?B/s]"
            ],
            "application/vnd.jupyter.widget-view+json": {
              "version_major": 2,
              "version_minor": 0,
              "model_id": "f11715f9c6364e40a9d1ebd795106895"
            }
          },
          "metadata": {}
        },
        {
          "output_type": "display_data",
          "data": {
            "text/plain": [
              "generation_config.json:   0%|          | 0.00/147 [00:00<?, ?B/s]"
            ],
            "application/vnd.jupyter.widget-view+json": {
              "version_major": 2,
              "version_minor": 0,
              "model_id": "3b3fb9c7509a4680aaa6fb669420f737"
            }
          },
          "metadata": {}
        }
      ]
    },
    {
      "cell_type": "code",
      "source": [
        "input_text = \"Translate the given text from English to French: why do we run for future rather than living the present\""
      ],
      "metadata": {
        "id": "HeYIC8cnzfBK"
      },
      "execution_count": 8,
      "outputs": []
    },
    {
      "cell_type": "code",
      "source": [
        "input_ids=t5_tokenizer.encode(input_text, return_tensors='pt')"
      ],
      "metadata": {
        "id": "ibMJ73qlze-B"
      },
      "execution_count": 9,
      "outputs": []
    },
    {
      "cell_type": "code",
      "source": [
        "input_ids"
      ],
      "metadata": {
        "colab": {
          "base_uri": "https://localhost:8080/"
        },
        "id": "8fBZMDEwze6w",
        "outputId": "b46633e1-3800-4b0e-ff9a-5bd104acf493"
      },
      "execution_count": 10,
      "outputs": [
        {
          "output_type": "execute_result",
          "data": {
            "text/plain": [
              "tensor([[30355,    15,     8,   787,  1499,    45,  1566,    12,  2379,    10,\n",
              "           572,   103,    62,   661,    21,   647,  1066,   145,   840,     8,\n",
              "           915,     1]])"
            ]
          },
          "metadata": {},
          "execution_count": 10
        }
      ]
    },
    {
      "cell_type": "code",
      "source": [
        "outputs = t5_model.generate(input_ids)\n",
        "output_text = t5_tokenizer.decode(outputs[0], skip_special_tokens=True)"
      ],
      "metadata": {
        "colab": {
          "base_uri": "https://localhost:8080/"
        },
        "id": "TGiT2_djze5L",
        "outputId": "abbd65f5-26c6-4627-981a-84fef19ce6b8"
      },
      "execution_count": 11,
      "outputs": [
        {
          "output_type": "stream",
          "name": "stderr",
          "text": [
            "/usr/local/lib/python3.10/dist-packages/transformers/generation/utils.py:1258: UserWarning: Using the model-agnostic default `max_length` (=20) to control the generation length. We recommend setting `max_new_tokens` to control the maximum length of the generation.\n",
            "  warnings.warn(\n"
          ]
        }
      ]
    },
    {
      "cell_type": "code",
      "source": [
        "output_text"
      ],
      "metadata": {
        "colab": {
          "base_uri": "https://localhost:8080/",
          "height": 36
        },
        "id": "sYp06oEnz0Ar",
        "outputId": "b11d8dff-c3a0-4d64-cc85-86ee68425ddb"
      },
      "execution_count": 12,
      "outputs": [
        {
          "output_type": "execute_result",
          "data": {
            "text/plain": [
              "\"Pourquoi allons-nous courir pour l'avenir plutôt que pour vivre le\""
            ],
            "application/vnd.google.colaboratory.intrinsic+json": {
              "type": "string"
            }
          },
          "metadata": {},
          "execution_count": 12
        }
      ]
    },
    {
      "cell_type": "code",
      "source": [],
      "metadata": {
        "id": "nCaLm4Sm0Ju0"
      },
      "execution_count": null,
      "outputs": []
    },
    {
      "cell_type": "code",
      "source": [
        "# Load the mT5 model and tokenizer for multilingual support\n",
        "model_name = \"google/mt5-base\"  # Use mT5 for multilingual support\n",
        "tokenizer = T5Tokenizer.from_pretrained(model_name, clean_up_tokenization_spaces=True)\n",
        "model = MT5ForConditionalGeneration.from_pretrained(model_name)"
      ],
      "metadata": {
        "id": "wsItnAeHzMLp"
      },
      "execution_count": 4,
      "outputs": []
    },
    {
      "cell_type": "code",
      "execution_count": 1,
      "metadata": {
        "colab": {
          "base_uri": "https://localhost:8080/"
        },
        "id": "sXjHez0HueM1",
        "outputId": "177b61e4-cd5d-4282-c83c-34e0d0e97ede"
      },
      "outputs": [
        {
          "output_type": "stream",
          "name": "stderr",
          "text": [
            "/usr/local/lib/python3.10/dist-packages/huggingface_hub/utils/_token.py:89: UserWarning: \n",
            "The secret `HF_TOKEN` does not exist in your Colab secrets.\n",
            "To authenticate with the Hugging Face Hub, create a token in your settings tab (https://huggingface.co/settings/tokens), set it as secret in your Google Colab and restart your session.\n",
            "You will be able to reuse this secret in all of your notebooks.\n",
            "Please note that authentication is recommended but still optional to access public models or datasets.\n",
            "  warnings.warn(\n",
            "You are using the default legacy behaviour of the <class 'transformers.models.t5.tokenization_t5.T5Tokenizer'>. This is expected, and simply means that the `legacy` (previous) behavior will be used so nothing changes for you. If you want to use the new behaviour, set `legacy=False`. This should only be set if you understand what it means, and thoroughly read the reason why this was added as explained in https://github.com/huggingface/transformers/pull/24565\n"
          ]
        },
        {
          "output_type": "stream",
          "name": "stdout",
          "text": [
            "Epoch 1/30, Average Loss: 29.1696\n",
            "Epoch 2/30, Average Loss: 20.3454\n",
            "Epoch 3/30, Average Loss: 15.0821\n",
            "Epoch 4/30, Average Loss: 10.4251\n",
            "Epoch 5/30, Average Loss: 9.3051\n",
            "Epoch 6/30, Average Loss: 8.4694\n",
            "Epoch 7/30, Average Loss: 7.5820\n",
            "Epoch 8/30, Average Loss: 6.7872\n",
            "Epoch 9/30, Average Loss: 6.8328\n",
            "Epoch 10/30, Average Loss: 6.4486\n",
            "Epoch 11/30, Average Loss: 6.0714\n",
            "Epoch 12/30, Average Loss: 5.3969\n",
            "Epoch 13/30, Average Loss: 5.3445\n",
            "Epoch 14/30, Average Loss: 5.1336\n",
            "Epoch 15/30, Average Loss: 4.7097\n",
            "Epoch 16/30, Average Loss: 4.5061\n",
            "Epoch 17/30, Average Loss: 4.0370\n",
            "Epoch 18/30, Average Loss: 3.2352\n",
            "Epoch 19/30, Average Loss: 2.1659\n",
            "Epoch 20/30, Average Loss: 1.3603\n",
            "Epoch 21/30, Average Loss: 1.0550\n",
            "Epoch 22/30, Average Loss: 0.6056\n",
            "Epoch 23/30, Average Loss: 0.5019\n",
            "Epoch 24/30, Average Loss: 0.4185\n",
            "Epoch 25/30, Average Loss: 0.3920\n",
            "Epoch 26/30, Average Loss: 0.3409\n",
            "Epoch 27/30, Average Loss: 0.2929\n",
            "Epoch 28/30, Average Loss: 0.2980\n",
            "Epoch 29/30, Average Loss: 0.2798\n",
            "Epoch 30/30, Average Loss: 0.2723\n"
          ]
        },
        {
          "output_type": "stream",
          "name": "stderr",
          "text": [
            "/usr/local/lib/python3.10/dist-packages/nltk/translate/bleu_score.py:552: UserWarning: \n",
            "The hypothesis contains 0 counts of 3-gram overlaps.\n",
            "Therefore the BLEU score evaluates to 0, independently of\n",
            "how many N-gram overlaps of lower order it contains.\n",
            "Consider using lower n-gram order or use SmoothingFunction()\n",
            "  warnings.warn(_msg)\n",
            "/usr/local/lib/python3.10/dist-packages/nltk/translate/bleu_score.py:552: UserWarning: \n",
            "The hypothesis contains 0 counts of 4-gram overlaps.\n",
            "Therefore the BLEU score evaluates to 0, independently of\n",
            "how many N-gram overlaps of lower order it contains.\n",
            "Consider using lower n-gram order or use SmoothingFunction()\n",
            "  warnings.warn(_msg)\n"
          ]
        },
        {
          "output_type": "stream",
          "name": "stdout",
          "text": [
            "English: translate English to Tamil: I slept.\n",
            "Actual Tamil: நான் தூங்கினேன்.\n",
            "Predicted Tamil: நான் தூங்கினேன்.\n",
            "BLEU Score: 0.0000\n",
            "\n",
            "English: translate English to Tamil: Calm down.\n",
            "Actual Tamil: அமைதியாக இருங்கள்\n",
            "Predicted Tamil: அமர அழியுங்கள்\n",
            "BLEU Score: 0.0000\n",
            "\n"
          ]
        },
        {
          "output_type": "stream",
          "name": "stderr",
          "text": [
            "/usr/local/lib/python3.10/dist-packages/nltk/translate/bleu_score.py:552: UserWarning: \n",
            "The hypothesis contains 0 counts of 2-gram overlaps.\n",
            "Therefore the BLEU score evaluates to 0, independently of\n",
            "how many N-gram overlaps of lower order it contains.\n",
            "Consider using lower n-gram order or use SmoothingFunction()\n",
            "  warnings.warn(_msg)\n"
          ]
        },
        {
          "output_type": "stream",
          "name": "stdout",
          "text": [
            "English: translate English to Tamil: I'll walk.\n",
            "Actual Tamil: நான் நடப்பேன்.\n",
            "Predicted Tamil: நான் நடந்து செல்ல வேண்டுமென்று எண்ணுகிறேன்\n",
            "BLEU Score: 0.0000\n",
            "\n",
            "English: translate English to Tamil: Who is he?\n",
            "Actual Tamil: அவன் யார்?\n",
            "Predicted Tamil: யார் எங்களது யார்?\n",
            "BLEU Score: 0.0000\n",
            "\n",
            "English: translate English to Tamil: Who knows?\n",
            "Actual Tamil: யாருக்குத் தெரியும்?\n",
            "Predicted Tamil: யார் என்ன  ?\n",
            "BLEU Score: 0.0000\n",
            "\n",
            "Average BLEU Score: 0.0000\n",
            "Translated Tamil: நான் தற்போது மகிழ்ச்சியாக இருக்கிறேன்\n"
          ]
        }
      ],
      "source": [
        "\n",
        "# Preprocess the data\n",
        "def preprocess_data(data_file):\n",
        "    english_sentences = []\n",
        "    tamil_sentences = []\n",
        "    with open(data_file, \"r\", encoding=\"utf-8\") as f:\n",
        "        for line in f:\n",
        "            if line.strip():\n",
        "                en, ta, _ = line.split('\\t')\n",
        "                english_sentences.append(f\"translate English to Tamil: {en.strip()}\")\n",
        "                tamil_sentences.append(ta.strip())\n",
        "    return english_sentences, tamil_sentences\n",
        "\n",
        "# Load the dataset\n",
        "data_file = \"tam.txt\"\n",
        "english_sentences, tamil_sentences = preprocess_data(data_file)\n",
        "\n",
        "# Training loop with teacher forcing and batching\n",
        "def train_model(model, optimizer, scheduler, english_sentences, tamil_sentences, num_epochs, batch_size, device):\n",
        "    model.to(device)\n",
        "    for epoch in range(num_epochs):\n",
        "        total_loss = 0.0\n",
        "        # Shuffle the data before each epoch for randomness\n",
        "        data = list(zip(english_sentences, tamil_sentences))\n",
        "        random.shuffle(data)\n",
        "        english_sentences, tamil_sentences = zip(*data)\n",
        "\n",
        "        for i in range(0, len(english_sentences), batch_size):\n",
        "            batch_english_sentences = english_sentences[i:i+batch_size]\n",
        "            batch_tamil_sentences = tamil_sentences[i:i+batch_size]\n",
        "\n",
        "            if len(batch_english_sentences) == 0:  # Skip empty batches\n",
        "                continue\n",
        "\n",
        "            batch_english_input_ids = tokenizer(batch_english_sentences, padding=True, return_tensors=\"pt\", max_length=512, truncation=True)[\"input_ids\"].to(device)\n",
        "            batch_tamil_input_ids = tokenizer(batch_tamil_sentences, padding=True, return_tensors=\"pt\", max_length=512, truncation=True)[\"input_ids\"].to(device)\n",
        "\n",
        "            # Model forward pass with teacher forcing\n",
        "            outputs = model(input_ids=batch_english_input_ids, labels=batch_tamil_input_ids)\n",
        "            loss = outputs.loss\n",
        "            total_loss += loss.item()\n",
        "\n",
        "            # Backpropagation\n",
        "            optimizer.zero_grad()\n",
        "            loss.backward()\n",
        "            optimizer.step()\n",
        "\n",
        "        average_loss = total_loss / (len(english_sentences) // batch_size)\n",
        "        print(f\"Epoch {epoch+1}/{num_epochs}, Average Loss: {average_loss:.4f}\")\n",
        "        scheduler.step(average_loss)\n",
        "\n",
        "# Set training parameters\n",
        "num_epochs = 30  # Increase epochs for better learning\n",
        "batch_size = 16\n",
        "device = torch.device(\"cuda\" if torch.cuda.is_available() else \"cpu\")\n",
        "\n",
        "# Create optimizer and scheduler\n",
        "optimizer = AdamW(model.parameters(), lr=5e-5, no_deprecation_warning=True)\n",
        "scheduler = ReduceLROnPlateau(optimizer, patience=3, factor=0.1)\n",
        "\n",
        "# Train the model\n",
        "train_model(model, optimizer, scheduler, english_sentences, tamil_sentences, num_epochs, batch_size, device)\n",
        "\n",
        "# Save the fine-tuned model\n",
        "def save_model_contiguously(model, save_path):\n",
        "    for name, param in model.named_parameters():\n",
        "        if not param.is_contiguous():\n",
        "            param.data = param.data.contiguous()\n",
        "    model.save_pretrained(save_path)\n",
        "\n",
        "save_model_contiguously(model, \"mt5-tamil\")\n",
        "\n",
        "# Evaluate the model (Optional)\n",
        "def evaluate_model(model, english_sentences, tamil_sentences):\n",
        "    model.eval()  # Set the model to evaluation mode\n",
        "    with torch.no_grad():\n",
        "        total_bleu_score = 0.0\n",
        "        for english_sentence, tamil_sentence in zip(english_sentences, tamil_sentences):\n",
        "            input_ids = tokenizer(english_sentence, return_tensors=\"pt\", max_length=512, truncation=True).input_ids.to(device)\n",
        "            outputs = model.generate(input_ids, max_length=512, num_beams=5, early_stopping=True)\n",
        "            predicted_tamil = tokenizer.decode(outputs[0], skip_special_tokens=True)\n",
        "\n",
        "            # Calculate BLEU score\n",
        "            reference = tamil_sentence.split()  # Reference tokenized sentence\n",
        "            candidate = predicted_tamil.split()  # Candidate tokenized sentence\n",
        "            bleu_score = sentence_bleu([reference], candidate)\n",
        "            total_bleu_score += bleu_score\n",
        "\n",
        "            print(f\"English: {english_sentence}\")\n",
        "            print(f\"Actual Tamil: {tamil_sentence}\")\n",
        "            print(f\"Predicted Tamil: {predicted_tamil}\")\n",
        "            print(f\"BLEU Score: {bleu_score:.4f}\")\n",
        "            print()\n",
        "\n",
        "        avg_bleu = total_bleu_score / len(english_sentences)\n",
        "        print(f\"Average BLEU Score: {avg_bleu:.4f}\")\n",
        "\n",
        "# Evaluate the model on a subset of examples\n",
        "evaluate_model(model, english_sentences[:5], tamil_sentences[:5])\n",
        "\n",
        "# Translation function\n",
        "def translate_to_tamil(english_sentence):\n",
        "    input_sentence = f\"translate English to Tamil: {english_sentence}\"\n",
        "    input_ids = tokenizer(input_sentence, return_tensors=\"pt\", max_length=512, truncation=True).input_ids.to(device)\n",
        "    outputs = model.generate(input_ids=input_ids, max_length=512, num_beams=5, early_stopping=True)\n",
        "    predicted_tamil = tokenizer.decode(outputs[0], skip_special_tokens=True)\n",
        "    return predicted_tamil\n",
        "\n",
        "# Test translation\n",
        "custom_english = \"I am very happy now.\"\n",
        "translated_tamil = translate_to_tamil(custom_english)\n",
        "print(f\"Translated Tamil: {translated_tamil}\")\n"
      ]
    },
    {
      "cell_type": "code",
      "source": [],
      "metadata": {
        "id": "EVleNnLzukZI"
      },
      "execution_count": null,
      "outputs": []
    }
  ]
}